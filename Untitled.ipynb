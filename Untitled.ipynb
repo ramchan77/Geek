{
 "cells": [
  {
   "cell_type": "code",
   "execution_count": 1,
   "metadata": {},
   "outputs": [],
   "source": [
    "import urllib2\n",
    "import json\n",
    "import pandas as pd\n",
    "import time\n",
    "import glob\n",
    "import string"
   ]
  },
  {
   "cell_type": "code",
   "execution_count": 2,
   "metadata": {},
   "outputs": [],
   "source": [
    "csv_files=glob.glob('*.csv')\n",
    "input_file=string.replace(csv_files[0], '.csv', '')\n",
    "input_data=pd.read_csv(str(input_file)+'.csv',encoding='utf-8',error_bad_lines=False,sep=';')"
   ]
  },
  {
   "cell_type": "code",
   "execution_count": null,
   "metadata": {},
   "outputs": [],
   "source": [
    "for index,link in input_data.itertuples():\n",
    "    print(link.split('/in/')[1])"
   ]
  },
  {
   "cell_type": "code",
   "execution_count": 29,
   "metadata": {},
   "outputs": [],
   "source": [
    "data = urllib2.urlopen('https://cse.google.com/cse/element/v1?rsz=filtered_cse&num=5&hl=en&source=gcsc&gss=.com&cx=011658049436509675749:gkuaxghjf5u&q=hemant-kumar-715a291a&safe=off&cse_tok=AKaTTZhvWQaYSeqmBHoMcmmyx83F:1544676509876&sort=&oq=hemant-kumar-715a291a&gs_l=partner-generic.12...62933.63861.0.68218.0.0.0.0.0.0.0.0..0.0.gsnos%2Cn%3D13...0.881j694625j3j1...1.34.partner-generic..0.0.0.&callback=google.search.cse.api13806&nocache=1544676512916',timeout=15)"
   ]
  },
  {
   "cell_type": "code",
   "execution_count": 16,
   "metadata": {},
   "outputs": [
    {
     "ename": "ValueError",
     "evalue": "No JSON object could be decoded",
     "output_type": "error",
     "traceback": [
      "\u001b[1;31m---------------------------------------------------------------------------\u001b[0m",
      "\u001b[1;31mValueError\u001b[0m                                Traceback (most recent call last)",
      "\u001b[1;32m<ipython-input-16-44b931cdcdbb>\u001b[0m in \u001b[0;36m<module>\u001b[1;34m()\u001b[0m\n\u001b[0;32m      7\u001b[0m \u001b[0mfile_\u001b[0m\u001b[1;33m.\u001b[0m\u001b[0mclose\u001b[0m\u001b[1;33m(\u001b[0m\u001b[1;33m)\u001b[0m\u001b[1;33m\u001b[0m\u001b[0m\n\u001b[0;32m      8\u001b[0m \u001b[1;32mwith\u001b[0m \u001b[0mopen\u001b[0m\u001b[1;33m(\u001b[0m\u001b[1;34m'jj.json'\u001b[0m\u001b[1;33m)\u001b[0m \u001b[1;32mas\u001b[0m \u001b[0mf\u001b[0m\u001b[1;33m:\u001b[0m\u001b[1;33m\u001b[0m\u001b[0m\n\u001b[1;32m----> 9\u001b[1;33m     \u001b[0mdata1\u001b[0m \u001b[1;33m=\u001b[0m \u001b[0mjson\u001b[0m\u001b[1;33m.\u001b[0m\u001b[0mload\u001b[0m\u001b[1;33m(\u001b[0m\u001b[0mf\u001b[0m\u001b[1;33m)\u001b[0m\u001b[1;33m\u001b[0m\u001b[0m\n\u001b[0m",
      "\u001b[1;32mc:\\python27\\lib\\json\\__init__.pyc\u001b[0m in \u001b[0;36mload\u001b[1;34m(fp, encoding, cls, object_hook, parse_float, parse_int, parse_constant, object_pairs_hook, **kw)\u001b[0m\n\u001b[0;32m    289\u001b[0m         \u001b[0mparse_float\u001b[0m\u001b[1;33m=\u001b[0m\u001b[0mparse_float\u001b[0m\u001b[1;33m,\u001b[0m \u001b[0mparse_int\u001b[0m\u001b[1;33m=\u001b[0m\u001b[0mparse_int\u001b[0m\u001b[1;33m,\u001b[0m\u001b[1;33m\u001b[0m\u001b[0m\n\u001b[0;32m    290\u001b[0m         \u001b[0mparse_constant\u001b[0m\u001b[1;33m=\u001b[0m\u001b[0mparse_constant\u001b[0m\u001b[1;33m,\u001b[0m \u001b[0mobject_pairs_hook\u001b[0m\u001b[1;33m=\u001b[0m\u001b[0mobject_pairs_hook\u001b[0m\u001b[1;33m,\u001b[0m\u001b[1;33m\u001b[0m\u001b[0m\n\u001b[1;32m--> 291\u001b[1;33m         **kw)\n\u001b[0m\u001b[0;32m    292\u001b[0m \u001b[1;33m\u001b[0m\u001b[0m\n\u001b[0;32m    293\u001b[0m \u001b[1;33m\u001b[0m\u001b[0m\n",
      "\u001b[1;32mc:\\python27\\lib\\json\\__init__.pyc\u001b[0m in \u001b[0;36mloads\u001b[1;34m(s, encoding, cls, object_hook, parse_float, parse_int, parse_constant, object_pairs_hook, **kw)\u001b[0m\n\u001b[0;32m    337\u001b[0m             \u001b[0mparse_int\u001b[0m \u001b[1;32mis\u001b[0m \u001b[0mNone\u001b[0m \u001b[1;32mand\u001b[0m \u001b[0mparse_float\u001b[0m \u001b[1;32mis\u001b[0m \u001b[0mNone\u001b[0m \u001b[1;32mand\u001b[0m\u001b[1;33m\u001b[0m\u001b[0m\n\u001b[0;32m    338\u001b[0m             parse_constant is None and object_pairs_hook is None and not kw):\n\u001b[1;32m--> 339\u001b[1;33m         \u001b[1;32mreturn\u001b[0m \u001b[0m_default_decoder\u001b[0m\u001b[1;33m.\u001b[0m\u001b[0mdecode\u001b[0m\u001b[1;33m(\u001b[0m\u001b[0ms\u001b[0m\u001b[1;33m)\u001b[0m\u001b[1;33m\u001b[0m\u001b[0m\n\u001b[0m\u001b[0;32m    340\u001b[0m     \u001b[1;32mif\u001b[0m \u001b[0mcls\u001b[0m \u001b[1;32mis\u001b[0m \u001b[0mNone\u001b[0m\u001b[1;33m:\u001b[0m\u001b[1;33m\u001b[0m\u001b[0m\n\u001b[0;32m    341\u001b[0m         \u001b[0mcls\u001b[0m \u001b[1;33m=\u001b[0m \u001b[0mJSONDecoder\u001b[0m\u001b[1;33m\u001b[0m\u001b[0m\n",
      "\u001b[1;32mc:\\python27\\lib\\json\\decoder.pyc\u001b[0m in \u001b[0;36mdecode\u001b[1;34m(self, s, _w)\u001b[0m\n\u001b[0;32m    362\u001b[0m \u001b[1;33m\u001b[0m\u001b[0m\n\u001b[0;32m    363\u001b[0m         \"\"\"\n\u001b[1;32m--> 364\u001b[1;33m         \u001b[0mobj\u001b[0m\u001b[1;33m,\u001b[0m \u001b[0mend\u001b[0m \u001b[1;33m=\u001b[0m \u001b[0mself\u001b[0m\u001b[1;33m.\u001b[0m\u001b[0mraw_decode\u001b[0m\u001b[1;33m(\u001b[0m\u001b[0ms\u001b[0m\u001b[1;33m,\u001b[0m \u001b[0midx\u001b[0m\u001b[1;33m=\u001b[0m\u001b[0m_w\u001b[0m\u001b[1;33m(\u001b[0m\u001b[0ms\u001b[0m\u001b[1;33m,\u001b[0m \u001b[1;36m0\u001b[0m\u001b[1;33m)\u001b[0m\u001b[1;33m.\u001b[0m\u001b[0mend\u001b[0m\u001b[1;33m(\u001b[0m\u001b[1;33m)\u001b[0m\u001b[1;33m)\u001b[0m\u001b[1;33m\u001b[0m\u001b[0m\n\u001b[0m\u001b[0;32m    365\u001b[0m         \u001b[0mend\u001b[0m \u001b[1;33m=\u001b[0m \u001b[0m_w\u001b[0m\u001b[1;33m(\u001b[0m\u001b[0ms\u001b[0m\u001b[1;33m,\u001b[0m \u001b[0mend\u001b[0m\u001b[1;33m)\u001b[0m\u001b[1;33m.\u001b[0m\u001b[0mend\u001b[0m\u001b[1;33m(\u001b[0m\u001b[1;33m)\u001b[0m\u001b[1;33m\u001b[0m\u001b[0m\n\u001b[0;32m    366\u001b[0m         \u001b[1;32mif\u001b[0m \u001b[0mend\u001b[0m \u001b[1;33m!=\u001b[0m \u001b[0mlen\u001b[0m\u001b[1;33m(\u001b[0m\u001b[0ms\u001b[0m\u001b[1;33m)\u001b[0m\u001b[1;33m:\u001b[0m\u001b[1;33m\u001b[0m\u001b[0m\n",
      "\u001b[1;32mc:\\python27\\lib\\json\\decoder.pyc\u001b[0m in \u001b[0;36mraw_decode\u001b[1;34m(self, s, idx)\u001b[0m\n\u001b[0;32m    380\u001b[0m             \u001b[0mobj\u001b[0m\u001b[1;33m,\u001b[0m \u001b[0mend\u001b[0m \u001b[1;33m=\u001b[0m \u001b[0mself\u001b[0m\u001b[1;33m.\u001b[0m\u001b[0mscan_once\u001b[0m\u001b[1;33m(\u001b[0m\u001b[0ms\u001b[0m\u001b[1;33m,\u001b[0m \u001b[0midx\u001b[0m\u001b[1;33m)\u001b[0m\u001b[1;33m\u001b[0m\u001b[0m\n\u001b[0;32m    381\u001b[0m         \u001b[1;32mexcept\u001b[0m \u001b[0mStopIteration\u001b[0m\u001b[1;33m:\u001b[0m\u001b[1;33m\u001b[0m\u001b[0m\n\u001b[1;32m--> 382\u001b[1;33m             \u001b[1;32mraise\u001b[0m \u001b[0mValueError\u001b[0m\u001b[1;33m(\u001b[0m\u001b[1;34m\"No JSON object could be decoded\"\u001b[0m\u001b[1;33m)\u001b[0m\u001b[1;33m\u001b[0m\u001b[0m\n\u001b[0m\u001b[0;32m    383\u001b[0m         \u001b[1;32mreturn\u001b[0m \u001b[0mobj\u001b[0m\u001b[1;33m,\u001b[0m \u001b[0mend\u001b[0m\u001b[1;33m\u001b[0m\u001b[0m\n",
      "\u001b[1;31mValueError\u001b[0m: No JSON object could be decoded"
     ]
    }
   ],
   "source": [
    "dd=data.read()\n",
    "dd=dd.replace('/*O_o*/\\ngoogle.search.Search.csqr9114(','')\n",
    "dd=dd.replace(');','')\n",
    "filename = \"jj.json\"\n",
    "file_ = open(filename, 'w')\n",
    "file_.write(dd)\n",
    "file_.close()\n",
    "with open('jj.json') as f:\n",
    "    data1 = json.load(f)"
   ]
  },
  {
   "cell_type": "code",
   "execution_count": 22,
   "metadata": {},
   "outputs": [],
   "source": [
    "dd=data.read()\n",
    "dd=dd.replace('/*O_o*/\\ngoogle.search.Search.csqr9114(','')\n",
    "dd=dd.replace(');','')\n",
    "filename = \"jj.json\"\n",
    "file_ = open(filename, 'w')\n",
    "file_.write(dd)\n",
    "file_.close()"
   ]
  },
  {
   "cell_type": "code",
   "execution_count": 40,
   "metadata": {},
   "outputs": [],
   "source": [
    "with open('jj.json') as f:\n",
    "    data1 = json.load(f)"
   ]
  },
  {
   "cell_type": "code",
   "execution_count": 44,
   "metadata": {},
   "outputs": [
    {
     "name": "stdout",
     "output_type": "stream",
     "text": [
      "{u'titleNoFormatting': u'Hemant Kumar - Senior Service Engineer - AITbiotech Pte Ltd ...', u'title': u'<b>Hemant Kumar</b> - Senior Service Engineer - AITbiotech Pte Ltd ...', u'contentNoFormatting': u\"View Hemant Kumar's profile on LinkedIn, the world's largest professional \\ncommunity. Hemant has 4 jobs listed on their profile. See the complete profile on\\n\\xa0...\", u'formattedUrl': u'https://sg.linkedin.com/in/<b>hemant</b>-<b>kumar</b>-<b>715a291a</b>', u'unescapedUrl': u'https://sg.linkedin.com/in/hemant-kumar-715a291a', u'content': u'View <b>Hemant Kumar&#39;s</b> profile on LinkedIn, the world&#39;s largest professional \\ncommunity. <b>Hemant</b> has 4 jobs listed on their profile. See the complete profile on\\n&nbsp;...', u'url': u'https://sg.linkedin.com/in/hemant-kumar-715a291a', u'visibleUrl': u'sg.linkedin.com', u'clicktrackUrl': u'https://www.google.com/url?q=https://sg.linkedin.com/in/hemant-kumar-715a291a&sa=U&ved=0ahUKEwiUmJjYhpzfAhXMso8KHdjADXUQFggEMAA&client=internal-uds-cse&cx=011658049436509675749:gkuaxghjf5u&usg=AOvVaw2ISox1RSjn8K-V5rFlqc6_', u'richSnippet': {u'metatags': {u'detectadblock': u'//platform.linkedin.com/js/px.js', u'ogDescription': u\"View Hemant Kumar\\u2019s profile on LinkedIn, the world's largest professional community. Hemant has 4 jobs listed on their profile. See the complete profile on LinkedIn and discover Hemant\\u2019s connections and jobs at similar companies.\", u'twitterCard': u'summary', u'msapplicationTileimage': u'https://static.licdn.com/scds/common/u/images/logos/linkedin/logo-in-win8-tile-144_v1.png', u'applicationName': u'LinkedIn', u'appinstance': u'i001', u'appname': u'chrome', u'interfacelocale': u'en_US', u'globaltrackingurl': u'//www.linkedin.com/mob/tracking', u'pageimpressionid': u'7645fafd-4685-43b5-9928-12b857e97619', u'ogTitle': u'Hemant Kumar - Senior Service Engineer - AITbiotech Pte Ltd | LinkedIn', u'apphost': u'public-profile-frontend', u'globaltrackingappname': u'chrome', u'ogImage': u'https://media.licdn.com/dms/image/C4D03AQH2E_P3UjxgrQ/profile-displayphoto-shrink_200_200/0?e=1547078400&v=beta&t=O2tirfyBnofvWZOAuGlXyE38BbhNos0U7hPSLxwpexo', u'appversion': u'0.1.858', u'treeid': u'8ORj7SrsZBVglO+x2ioAAA==', u'lnkdTrackJsonLib': u'https://static.licdn.com/scds/concat/common/js?h=2jds9coeh4w78ed9wblscv68v-ebbt2vixcc5qz0otts5io08xv', u'globaltrackingappid': u'webTracking', u'msapplicationTilecolor': u'#0077B5', u'pagekey': u'public_profile_v3_desktop', u'referrer': u'origin', u'twitterSite': u'@LinkedIn', u'ogUrl': u'https://sg.linkedin.com/in/hemant-kumar-715a291a?trk=public_profile_card_url', u'remotenavjscontentbaseurl': u'https://static.licdn.com/scds/concat/common/js?v=0.1.598'}, u'person': {u'org': u'AITbiotech Pte Ltd', u'role': u'Senior Service Engineer at AITbiotech Pte Ltd'}, u'cseImage': {u'src': u'https://media.licdn.com/dms/image/C4D03AQH2E_P3UjxgrQ/profile-displayphoto-shrink_200_200/0?e=1547078400&v=beta&t=O2tirfyBnofvWZOAuGlXyE38BbhNos0U7hPSLxwpexo'}, u'hcard': {u'fn': u'Hemant Kumar', u'title': u'Senior Service Engineer at AITbiotech Pte Ltd'}}}\n"
     ]
    }
   ],
   "source": [
    "for results in data1['results']:\n",
    "    print(results)"
   ]
  },
  {
   "cell_type": "code",
   "execution_count": 46,
   "metadata": {},
   "outputs": [],
   "source": [
    "import re"
   ]
  },
  {
   "cell_type": "code",
   "execution_count": 47,
   "metadata": {},
   "outputs": [],
   "source": [
    "s='ram-chan/de'"
   ]
  },
  {
   "cell_type": "code",
   "execution_count": 50,
   "metadata": {},
   "outputs": [
    {
     "data": {
      "text/plain": [
       "'ram-chan'"
      ]
     },
     "execution_count": 50,
     "metadata": {},
     "output_type": "execute_result"
    }
   ],
   "source": [
    "re.sub('/..$','',s)"
   ]
  },
  {
   "cell_type": "code",
   "execution_count": null,
   "metadata": {},
   "outputs": [],
   "source": []
  }
 ],
 "metadata": {
  "kernelspec": {
   "display_name": "Python 2",
   "language": "python",
   "name": "python2"
  },
  "language_info": {
   "codemirror_mode": {
    "name": "ipython",
    "version": 2
   },
   "file_extension": ".py",
   "mimetype": "text/x-python",
   "name": "python",
   "nbconvert_exporter": "python",
   "pygments_lexer": "ipython2",
   "version": "2.7.15"
  }
 },
 "nbformat": 4,
 "nbformat_minor": 2
}
